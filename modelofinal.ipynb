{
 "cells": [
  {
   "cell_type": "code",
   "execution_count": 8,
   "metadata": {},
   "outputs": [
    {
     "name": "stdout",
     "output_type": "stream",
     "text": [
      "Found 3200 images belonging to 4 classes.\n",
      "Found 800 images belonging to 4 classes.\n"
     ]
    }
   ],
   "source": [
    "import tensorflow as tf\n",
    "from keras.preprocessing.image import ImageDataGenerator\n",
    "\n",
    "# Configura el generador de datos\n",
    "datagen = ImageDataGenerator(rescale=1.0/255.0, validation_split=0.2)  # Normalización de las imágenes\n",
    "\n",
    "# Carga el dataset\n",
    "train_generator = datagen.flow_from_directory(\n",
    "    'C:\\\\Users\\\\otice\\\\Downloads\\\\Petmood\\\\datasetmod\\\\Dog Emotion',\n",
    "    target_size=(150, 150),  # Tamaño al que redimensionar las imágenes\n",
    "    batch_size=32,\n",
    "    class_mode='categorical',  # Para clasificación múltiple\n",
    "    subset='training'  # Para datos de entrenamiento\n",
    ")\n",
    "\n",
    "validation_generator = datagen.flow_from_directory(\n",
    "    'C:\\\\Users\\\\otice\\\\Downloads\\\\Petmood\\\\datasetmod\\\\Dog Emotion',\n",
    "    target_size=(150, 150),\n",
    "    batch_size=32,\n",
    "    class_mode='categorical', \n",
    "    subset='validation'  # Para datos de validación\n",
    ")"
   ]
  },
  {
   "cell_type": "code",
   "execution_count": 9,
   "metadata": {},
   "outputs": [],
   "source": [
    "model = tf.keras.Sequential([\n",
    "    tf.keras.layers.Conv2D(32, (3, 3), activation='relu', input_shape=(150, 150, 3)),\n",
    "    tf.keras.layers.MaxPooling2D(pool_size=(2, 2)),\n",
    "    \n",
    "    tf.keras.layers.Conv2D(64, (3, 3), activation='relu'),\n",
    "    tf.keras.layers.MaxPooling2D(pool_size=(2, 2)),\n",
    "    \n",
    "    tf.keras.layers.Conv2D(128, (3, 3), activation='relu'),\n",
    "    tf.keras.layers.MaxPooling2D(pool_size=(2, 2)),\n",
    "    \n",
    "    tf.keras.layers.Flatten(),\n",
    "    tf.keras.layers.Dense(128, activation='relu'),\n",
    "    tf.keras.layers.Dense(4, activation='softmax')  # 4 categorías\n",
    "])"
   ]
  },
  {
   "cell_type": "code",
   "execution_count": 10,
   "metadata": {},
   "outputs": [
    {
     "name": "stdout",
     "output_type": "stream",
     "text": [
      "WARNING:tensorflow:From c:\\Users\\otice\\AppData\\Local\\Programs\\Python\\Python311\\Lib\\site-packages\\keras\\src\\optimizers\\__init__.py:309: The name tf.train.Optimizer is deprecated. Please use tf.compat.v1.train.Optimizer instead.\n",
      "\n"
     ]
    }
   ],
   "source": [
    "model.compile(optimizer='adam', \n",
    "              loss='categorical_crossentropy', \n",
    "              metrics=['accuracy'])"
   ]
  },
  {
   "cell_type": "code",
   "execution_count": 21,
   "metadata": {},
   "outputs": [
    {
     "name": "stdout",
     "output_type": "stream",
     "text": [
      "100/100 [==============================] - 57s 566ms/step - loss: 0.0121 - accuracy: 0.9966 - val_loss: 4.4354 - val_accuracy: 0.4400\n"
     ]
    }
   ],
   "source": [
    "history = model.fit(\n",
    "    train_generator,\n",
    "    validation_data=validation_generator,\n",
    "    epochs=1 # Cambia el número de épocas según necesites\n",
    ")"
   ]
  },
  {
   "cell_type": "code",
   "execution_count": 22,
   "metadata": {},
   "outputs": [
    {
     "name": "stdout",
     "output_type": "stream",
     "text": [
      "25/25 [==============================] - 4s 171ms/step - loss: 4.4354 - accuracy: 0.4400\n",
      "Validation accuracy: 44.00%\n"
     ]
    }
   ],
   "source": [
    "# Evaluar el modelo\n",
    "val_loss, val_accuracy = model.evaluate(validation_generator)\n",
    "print(f'Validation accuracy: {val_accuracy * 100:.2f}%')"
   ]
  },
  {
   "cell_type": "code",
   "execution_count": 23,
   "metadata": {},
   "outputs": [
    {
     "name": "stderr",
     "output_type": "stream",
     "text": [
      "c:\\Users\\otice\\AppData\\Local\\Programs\\Python\\Python311\\Lib\\site-packages\\keras\\src\\engine\\training.py:3103: UserWarning: You are saving your model as an HDF5 file via `model.save()`. This file format is considered legacy. We recommend using instead the native Keras format, e.g. `model.save('my_model.keras')`.\n",
      "  saving_api.save_model(\n"
     ]
    }
   ],
   "source": [
    "# Guardar el modelo\n",
    "model.save('modelo_perros.h5')"
   ]
  },
  {
   "cell_type": "code",
   "execution_count": 24,
   "metadata": {},
   "outputs": [
    {
     "data": {
      "text/plain": [
       "[<matplotlib.lines.Line2D at 0x189650d1a10>]"
      ]
     },
     "execution_count": 24,
     "metadata": {},
     "output_type": "execute_result"
    },
    {
     "data": {
      "image/png": "[encoded data removed]",
      "text/plain": [
       "<Figure size 640x480 with 1 Axes>"
      ]
     },
     "metadata": {},
     "output_type": "display_data"
    }
   ],
   "source": [
    "import matplotlib.pyplot as plt\n",
    "plt.xlabel(\"# Epoca\")\n",
    "plt.ylabel(\"Magnitud de pérdida\")\n",
    "plt.plot(history.history[\"loss\"])"
   ]
  },
  {
   "cell_type": "code",
   "execution_count": 25,
   "metadata": {},
   "outputs": [],
   "source": [
    "from keras.models import load_model\n",
    "\n",
    "# Cargar el modelo previamente guardado\n",
    "model = load_model('modelo_perros.h5')"
   ]
  },
  {
   "cell_type": "code",
   "execution_count": 26,
   "metadata": {},
   "outputs": [],
   "source": [
    "from keras.preprocessing import image\n",
    "import numpy as np\n",
    "\n",
    "def load_and_preprocess_image(img_path):\n",
    "    # Cargar la imagen\n",
    "    img = image.load_img(img_path, target_size=(150, 150))\n",
    "    # Convertir la imagen a un array numpy\n",
    "    img_array = image.img_to_array(img)\n",
    "    # Normalizar la imagen (mismo preprocesamiento que durante el entrenamiento)\n",
    "    img_array = img_array / 255.0\n",
    "    # Agregar una dimensión extra para que sea compatible con el modelo\n",
    "    img_array = np.expand_dims(img_array, axis=0)\n",
    "    return img_array"
   ]
  },
  {
   "cell_type": "code",
   "execution_count": 31,
   "metadata": {},
   "outputs": [
    {
     "name": "stdout",
     "output_type": "stream",
     "text": [
      "1/1 [==============================] - 0s 135ms/step\n",
      "Predicción: relaxed\n"
     ]
    }
   ],
   "source": [
    "# Ruta a la imagen que deseas probar\n",
    "img_path = 'C:\\\\Users\\\\otice\\\\Downloads\\\\Petmood\\\\datasetmod\\\\Dog Emotion\\\\relaxed\\\\aiyFMX1WWouCmNNkvJaZVmUUwOZyz1113.jpg'\n",
    "\n",
    "# Preprocesar la imagen\n",
    "img_array = load_and_preprocess_image(img_path)\n",
    "\n",
    "# Realizar la predicción\n",
    "predictions = model.predict(img_array)\n",
    "\n",
    "# Obtener la clase predicha\n",
    "predicted_class = np.argmax(predictions, axis=1)\n",
    "# Obtener las clases y sus nombres\n",
    "class_indices = train_generator.class_indices\n",
    "class_labels = list(class_indices.keys())\n",
    "\n",
    "# Mostrar la clase predicha\n",
    "print(f'Predicción: {class_labels[predicted_class[0]]}')"
   ]
  },
  {
   "cell_type": "code",
   "execution_count": null,
   "metadata": {},
   "outputs": [],
   "source": [
    "# Lista de rutas a las imágenes que deseas probar\n",
    "image_paths = ['ruta/a/imagen1.jpg', 'ruta/a/imagen2.jpg', ...]\n",
    "\n",
    "for img_path in image_paths:\n",
    "    img_array = load_and_preprocess_image(img_path)\n",
    "    predictions = model.predict(img_array)\n",
    "    predicted_class = np.argmax(predictions, axis=1)\n",
    "    print(f'Predicción para {img_path}: {class_labels[predicted_class[0]]}')"
   ]
  }
 ],
 "metadata": {
  "kernelspec": {
   "display_name": "Python 3",
   "language": "python",
   "name": "python3"
  },
  "language_info": {
   "codemirror_mode": {
    "name": "ipython",
    "version": 3
   },
   "file_extension": ".py",
   "mimetype": "text/x-python",
   "name": "python",
   "nbconvert_exporter": "python",
   "pygments_lexer": "ipython3",
   "version": "3.11.0"
  }
 },
 "nbformat": 4,
 "nbformat_minor": 2
}
